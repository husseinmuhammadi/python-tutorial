{
 "cells": [
  {
   "cell_type": "code",
   "execution_count": null,
   "metadata": {
    "vscode": {
     "languageId": "markdown"
    }
   },
   "outputs": [],
   "source": [
    "# Introduction to Python\n",
    "\n",
    "Python is a high-level, interpreted programming language known for its simplicity and readability. It supports multiple programming paradigms, including procedural, object-oriented, and functional programming. Python is widely used in various fields, such as web development, data analysis, artificial intelligence, scientific computing, and more.\n",
    "\n",
    "## Key Features of Python\n",
    "\n",
    "- **Easy to Read and Write**: Python's syntax is clear and concise, making it easy to learn and use.\n",
    "- **Interpreted Language**: Python code is executed line by line, which makes debugging easier.\n",
    "- **Dynamically Typed**: Variables in Python do not need explicit declaration to reserve memory space.\n",
    "- **Extensive Standard Library**: Python has a rich standard library that provides modules and functions for various tasks.\n",
    "- **Community Support**: Python has a large and active community that contributes to its development and provides support through forums and documentation.\n",
    "\n",
    "## Basic Syntax\n",
    "\n",
    "Here are some basic syntax elements in Python:\n",
    "\n",
    "### Variables and Data Types\n"
   ]
  },
  {
   "cell_type": "code",
   "execution_count": null,
   "metadata": {
    "vscode": {
     "languageId": "markdown"
    }
   },
   "outputs": [],
   "source": [
    "```markdown\n",
    "## Setting Up a Virtual Environment (venv) for Python\n",
    "\n",
    "A virtual environment is a self-contained directory that contains a Python installation for a particular version of Python, plus a number of additional packages. It allows you to manage dependencies for different projects separately.\n",
    "\n",
    "### Steps to Set Up a Virtual Environment\n",
    "\n",
    "1. **Install `venv` module**: The `venv` module is included in the Python standard library for Python 3.3 and later. If you are using an earlier version of Python, you need to install the `virtualenv` package.\n",
    "\n",
    "2. **Create a Virtual Environment**:\n",
    "    Open your terminal or command prompt and navigate to your project directory. Run the following command to create a virtual environment:\n",
    "    ```sh\n",
    "    python -m venv .venv\n",
    "    ```\n",
    "    Replace `.venv` with the name you want to give to your virtual environment.\n",
    "\n",
    "3. **Activate the Virtual Environment**:\n",
    "    - On Windows:\n",
    "      ```sh\n",
    "      myenv\\Scripts\\activate\n",
    "      ```\n",
    "    - On macOS and Linux:\n",
    "      ```sh\n",
    "      source myenv/bin/activate\n",
    "      ```\n",
    "\n",
    "4. **Install Packages**:\n",
    "    Once the virtual environment is activated, you can install packages using `pip`. For example:\n",
    "    ```sh\n",
    "    pip install package_name\n",
    "    ```\n",
    "\n",
    "5. **Deactivate the Virtual Environment**:\n",
    "    To deactivate the virtual environment and return to the global Python environment, simply run:\n",
    "    ```sh\n",
    "    deactivate\n",
    "    ```\n",
    "\n",
    "### Benefits of Using Virtual Environments\n",
    "\n",
    "- **Dependency Management**: Each project can have its own dependencies, regardless of what dependencies every other project has.\n",
    "- **Avoiding Conflicts**: Different projects can use different versions of the same package without causing conflicts.\n",
    "- **Reproducibility**: Ensures that the project runs in the same environment on different machines.\n",
    "\n",
    "By following these steps, you can easily set up and manage virtual environments for your Python projects.\n",
    "```"
   ]
  }
 ],
 "metadata": {
  "language_info": {
   "name": "python"
  }
 },
 "nbformat": 4,
 "nbformat_minor": 2
}
